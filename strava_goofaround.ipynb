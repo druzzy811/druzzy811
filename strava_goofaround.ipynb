{
 "cells": [
  {
   "cell_type": "code",
   "execution_count": 4,
   "id": "adf63e8a",
   "metadata": {},
   "outputs": [
    {
     "ename": "SyntaxError",
     "evalue": "invalid syntax (968674204.py, line 1)",
     "output_type": "error",
     "traceback": [
      "\u001b[0;36m  File \u001b[0;32m\"/var/folders/l9/d6fb3j917d1fwz_cpm14pby80000gn/T/ipykernel_72353/968674204.py\"\u001b[0;36m, line \u001b[0;32m1\u001b[0m\n\u001b[0;31m    pip install folium\u001b[0m\n\u001b[0m        ^\u001b[0m\n\u001b[0;31mSyntaxError\u001b[0m\u001b[0;31m:\u001b[0m invalid syntax\n"
     ]
    }
   ],
   "source": [
    "#pip install folium"
   ]
  },
  {
   "cell_type": "code",
   "execution_count": 5,
   "id": "d76fb7ed",
   "metadata": {},
   "outputs": [
    {
     "name": "stdout",
     "output_type": "stream",
     "text": [
      "Collecting polyline\n",
      "  Downloading polyline-2.0.1-py3-none-any.whl (6.0 kB)\n",
      "Installing collected packages: polyline\n",
      "Successfully installed polyline-2.0.1\n",
      "Note: you may need to restart the kernel to use updated packages.\n"
     ]
    }
   ],
   "source": [
    "pip install polyline"
   ]
  },
  {
   "cell_type": "code",
   "execution_count": 6,
   "id": "1c4ea75f",
   "metadata": {},
   "outputs": [],
   "source": [
    "# import modules\n",
    "import os\n",
    "import requests\n",
    "import urllib3\n",
    "import pandas as pd\n",
    "import numpy as np\n",
    "import time\n",
    "import matplotlib.pyplot as plt\n",
    "import folium\n",
    "import polyline\n",
    "import base64\n",
    "from tqdm import tqdm\n",
    "# disable warnings\n",
    "urllib3.disable_warnings(urllib3.exceptions.InsecureRequestWarning)"
   ]
  },
  {
   "cell_type": "code",
   "execution_count": 60,
   "id": "c96b1185",
   "metadata": {},
   "outputs": [],
   "source": [
    "# set strava variables\n",
    "client_id = '119993'\n",
    "client_secret = '67840b78f22679aab9989426c78b87b597a102de'\n",
    "refresh_token = 'ec624131076c98a1d017f6fe24047eff07fdb52a'"
   ]
  },
  {
   "cell_type": "markdown",
   "id": "b98e32a1",
   "metadata": {},
   "source": [
    "https://www.strava.com/oauth/authorize?client_id=119993&redirect_uri=http://localhost&response_type=code&scope=activity:read_all\n",
    "\n",
    "\n",
    "\n",
    "#http://localhost/?state=&code=f07a3664e7132519f4d62452a04d67dc0aa0cfc5&scope=read,activity:read_all\n",
    "#http://localhost/?state=&code=7d25d089b532a3c14d5976b6110db66f49d02ae5&scope=read,activity:read_all\n",
    "\n",
    "151b909d42918c5e8d066df90a82078502962f92\n",
    "\n",
    "https://www.strava.com/oauth/token?client_id=119993&client_secret=67840b78f22679aab9989426c78b87b597a102de&code=151b909d42918c5e8d066df90a82078502962f92&grant_type=authorization_code"
   ]
  },
  {
   "cell_type": "code",
   "execution_count": 61,
   "id": "9d4dd9f5",
   "metadata": {},
   "outputs": [
    {
     "name": "stdout",
     "output_type": "stream",
     "text": [
      "9a986e65d750dbd304ef5d3ed8c3715f266cace3\n"
     ]
    }
   ],
   "source": [
    "# define function to get a new access token\n",
    "def get_access_token(client_id, client_secret, refresh_token):\n",
    " \n",
    "   oauth_url = 'https://www.strava.com/oauth/token'\n",
    " \n",
    "   payload = {\n",
    "       'client_id': client_id, \n",
    "       'client_secret': client_secret, \n",
    "       'refresh_token': refresh_token, \n",
    "       'grant_type': 'refresh_token', \n",
    "       'f': 'json', \n",
    "   }\n",
    " \n",
    "   r = requests.post(oauth_url, data=payload, verify=False)\n",
    " \n",
    "   access_token = r.json()['access_token']\n",
    "   return access_token\n",
    "# get new access token\n",
    "access_token = get_access_token(client_id, client_secret, refresh_token)\n",
    "print (access_token)"
   ]
  },
  {
   "cell_type": "code",
   "execution_count": 62,
   "id": "49589a05",
   "metadata": {},
   "outputs": [
    {
     "name": "stderr",
     "output_type": "stream",
     "text": [
      " 10%|████▌                                         | 1/10 [00:00<00:08,  1.07it/s]\n"
     ]
    }
   ],
   "source": [
    "# define function to get your strava data\n",
    "def get_data(access_token, per_page=200, page=1):\n",
    " \n",
    "   activities_url = 'https://www.strava.com/api/v3/athlete/activities'\n",
    "   headers = {'Authorization': 'Bearer ' + access_token}\n",
    "   params = {'per_page': per_page, 'page': page}\n",
    "   \n",
    "   data = requests.get(\n",
    "       activities_url, \n",
    "       headers=headers, \n",
    "       params=params\n",
    "   ).json()\n",
    " \n",
    "   return data\n",
    "# get you strava data\n",
    "max_number_of_pages = 10\n",
    "data = list()\n",
    "for page_number in tqdm(range(1, max_number_of_pages + 1)):\n",
    "    page_data = get_data(access_token, page=page_number)\n",
    "    if page_data == []:\n",
    "        break\n",
    "    data.append(page_data)"
   ]
  },
  {
   "cell_type": "code",
   "execution_count": 51,
   "id": "1f668f2c",
   "metadata": {},
   "outputs": [],
   "source": [
    "activities_url = 'https://www.strava.com/api/v3/athlete/activities'\n",
    "headers = {'Authorization': 'Bearer ' + access_token}\n",
    "params = {'per_page': 200, 'page': page}\n",
    "data = requests.get(\n",
    "       activities_url, \n",
    "       headers=headers, \n",
    "       params=params\n",
    "   ).json()"
   ]
  },
  {
   "cell_type": "code",
   "execution_count": 63,
   "id": "c288767a",
   "metadata": {},
   "outputs": [
    {
     "name": "stdout",
     "output_type": "stream",
     "text": [
      "Number of activities downloaded: 3\n"
     ]
    }
   ],
   "source": [
    "# data dictionaries\n",
    "data_dictionaries = []\n",
    "for page in data:\n",
    "    data_dictionaries.extend(page)\n",
    "# print number of activities\n",
    "print('Number of activities downloaded: {}'.format(len(data_dictionaries)))"
   ]
  },
  {
   "cell_type": "code",
   "execution_count": 64,
   "id": "c9c4d434",
   "metadata": {},
   "outputs": [
    {
     "name": "stdout",
     "output_type": "stream",
     "text": [
      "[[{'resource_state': 2, 'athlete': {'id': 128254009, 'resource_state': 1}, 'name': 'Morning Stand Up Paddling', 'distance': 8718.9, 'moving_time': 6643, 'elapsed_time': 7458, 'total_elevation_gain': 116.6, 'type': 'StandUpPaddling', 'sport_type': 'StandUpPaddling', 'id': 10566002522, 'start_date': '2024-01-15T20:12:44Z', 'start_date_local': '2024-01-15T10:12:44Z', 'timezone': '(GMT-10:00) Pacific/Honolulu', 'utc_offset': -36000.0, 'location_city': None, 'location_state': None, 'location_country': 'United States', 'achievement_count': 0, 'kudos_count': 0, 'comment_count': 0, 'athlete_count': 1, 'photo_count': 0, 'map': {'id': 'a10566002522', 'summary_polyline': 'gz{`C~qsa]VJV\\\\P@\\\\RRVb@LR^d@ZXNJRZNTVf@J^Td@FTLtB|CJTRTDLZTNTJFPBLJD\\\\NZRPL^PPJVLJJ`@^VDb@JPTPDNETBPDLZTFH@l@LVHh@b@d@D\\\\RXHXJJHb@LPRJFLGj@@TPdAMf@Ch@@ZVr@C`@Df@I\\\\AV?h@Nr@Ml@AVB`@Gl@Dz@[x@Gp@APF^Eb@Fz@EXAZLf@In@D\\\\TRDf@NXE|@FVJPMSIc@KEIWCBAEDZJVFl@R\\\\Bv@X^B`@JVPR?ZERB`@NRZPFNBVEVB^T^B^Rf@Ch@BX^l@Af@Jl@ANIVEh@Rj@@h@N^?b@Ph@G^B^Ph@X\\\\?TKj@?TPp@B`@\\\\l@Ch@Db@?b@BPNd@CX@LZj@BTFP?TJd@V`@NHHTPLJb@JLDVPVJhAPp@JNADJFBJEV?\\\\Jp@\\\\d@?RJXTV\\\\NAFJVXVDb@FRLL?l@L`@NTEj@JhAGN@XJXPLCXDf@Lf@Td@AXJ`@CJF|@Ad@TzBJTK^BbAFJAFFVV^EPFl@J^HH@ZHZ`@`@L@J|@JTJDFLAPFZHHDRAHFPAFBX^nAEP?`@H^NTCPDRDXLPGf@@XBTJPJM?WGk@@QPu@AIIGFQWMEG@CA@ECQSEK?q@Yw@J{@F]WeAA_@B}@W}@Cu@k@{@Oe@Ik@@{@Ui@UOQWMm@Aq@Ga@g@q@SeAKIIFLC@GCEEA?CEE@CSYEc@Qg@?SE_@BiAEQ]i@KYWkAMKYg@Gi@EIIgAGUKSQKOQQc@Gc@IQSOm@O_@Yc@MK[_@_@QK_@Gk@g@OOQg@a@[GMMa@Ak@D[AUSw@?i@BUCMGUY[KUGa@Eq@[g@KcAS]Ma@Ca@?m@Ui@ESE[Aw@Sk@Ge@BaAG]M]E[FiAQu@?gAQ}@AqAGYU_@I]?qAAMYo@GYCuA[cABcB]{@Km@@]LqAWgACmAUo@Gu@?s@H_AASSk@CU?c@Hk@AS[eAGg@@u@Ho@Ik@@iAYm@I_AYg@M{@Ua@IYIaAAsAIS_@c@K_@AOPu@?aACMBKC@D]DgBCMMYo@o@Wc@u@Wk@GSSUm@c@]O_@Cc@Oa@Ig@]_@KWOaAgAkAiAuC]_@]w@UU', 'resource_state': 2}, 'trainer': False, 'commute': False, 'manual': False, 'private': False, 'visibility': 'everyone', 'flagged': False, 'gear_id': None, 'start_latlng': [21.283735474571586, -157.71818370558321], 'end_latlng': [21.283776126801968, -157.71817582659423], 'average_speed': 1.312, 'max_speed': 3.674, 'has_heartrate': True, 'average_heartrate': 120.1, 'max_heartrate': 158.0, 'heartrate_opt_out': False, 'display_hide_heartrate_option': True, 'elev_high': 11.9, 'elev_low': -21.4, 'upload_id': 11304957023, 'upload_id_str': '11304957023', 'external_id': '173D205F-5BED-4891-814A-FCDFB0928928-activity.fit', 'from_accepted_tag': False, 'pr_count': 0, 'total_photo_count': 0, 'has_kudoed': False}, {'resource_state': 2, 'athlete': {'id': 128254009, 'resource_state': 1}, 'name': 'Morning Stand Up Paddling', 'distance': 9926.5, 'moving_time': 6697, 'elapsed_time': 7241, 'total_elevation_gain': 67.1, 'type': 'StandUpPaddling', 'sport_type': 'StandUpPaddling', 'id': 10507981797, 'start_date': '2024-01-06T20:20:21Z', 'start_date_local': '2024-01-06T10:20:21Z', 'timezone': '(GMT-10:00) Pacific/Honolulu', 'utc_offset': -36000.0, 'location_city': None, 'location_state': None, 'location_country': 'United States', 'achievement_count': 0, 'kudos_count': 0, 'comment_count': 0, 'athlete_count': 2, 'photo_count': 0, 'map': {'id': 'a10507981797', 'summary_polyline': 'wh|aCzypd]G?THT\\\\f@Hf@g@r@Uv@_Ap@]p@Mj@e@^K`A@x@]l@@j@o@ZQn@Aj@]p@G^o@b@WhA?VKf@Cf@Yn@G~@y@t@Kf@_@r@Ml@k@|@O`Aw@d@MVW\\\\Ov@Dj@Qf@Dn@c@`@I`@@h@S|@Cp@a@XG|@CRSFW`Ac@l@w@n@WXe@h@a@^Mv@_At@S\\\\g@`@Yn@Gr@w@t@Kp@a@j@Ed@a@\\\\M^AbA[j@g@x@Wt@y@h@SV?j@e@l@Mj@BRG`@a@`Cc@p@k@b@SN@j@e@hAUVSlA]`@m@`@Mj@ATMPU\\\\Kd@Cv@q@`@Mf@Ah@Yp@Cr@]d@Cx@q@lAMj@e@r@Kf@c@x@GVY\\\\Il@Bb@Qb@AXHx@?j@Mv@Lr@UbAC\\\\Iz@e@xAQt@Yl@q@vAm@b@@z@]f@Dv@_@fACh@YbAM`@c@ZQZGr@?r@e@dAAr@i@h@QQABEEAIFa@Oe@Zs@H}@p@k@Va@`@UBq@h@oBr@o@b@kAJi@Tw@JSN}@Lo@\\\\y@Js@f@sAPy@b@m@BgAl@c@Bw@^o@Fe@Tw@HWJq@x@SFo@Bs@\\\\cAHw@`@u@?w@d@_APg@^o@Hc@\\\\u@Do@ZyANq@?e@H}@p@w@@qAp@q@FWPu@Fk@\\\\q@?]Ji@Z[C]F}@j@_ABk@d@}@HYNc@b@{@JWP[j@k@XORq@V]\\\\cANa@Vu@Jq@Zk@Js@l@eAR_Az@{@Ri@h@s@XYd@{@Zu@hAq@j@WLu@Ji@X{@F]JWTAc@IMO?EFYHeAP}AWq@Hs@W_@Iy@Js@Oy@N[VIR]Ne@@o@N[E_A]e@J[Rq@Do@`@]`@w@Vu@r@cAZUZWr@c@^Mj@?`@]n@CVq@\\\\Yl@u@h@e@bAWLe@Hs@f@kCf@Y?e@K]UkBwAYLW^{@\\\\M?Ya@_@SQESFACBCG@J@AKxAdAVEh@]M?D??MEDDFaFHZPZ?Xo@KMGHWGMaAW[BWEOkBiBmCiBuBdCcSnZ', 'resource_state': 2}, 'trainer': False, 'commute': False, 'manual': False, 'private': False, 'visibility': 'everyone', 'flagged': False, 'gear_id': None, 'start_latlng': [21.449247635900974, -158.1969357188791], 'end_latlng': [21.456330260261893, -158.1998991407454], 'average_speed': 1.482, 'max_speed': 14.338, 'has_heartrate': True, 'average_heartrate': 124.1, 'max_heartrate': 140.0, 'heartrate_opt_out': False, 'display_hide_heartrate_option': True, 'elev_high': 20.6, 'elev_low': -9.6, 'upload_id': 11244161975, 'upload_id_str': '11244161975', 'external_id': 'B7D64CDF-3B01-49E2-8223-CD220647940F-activity.fit', 'from_accepted_tag': False, 'pr_count': 0, 'total_photo_count': 0, 'has_kudoed': False}, {'resource_state': 2, 'athlete': {'id': 128254009, 'resource_state': 1}, 'name': 'Lunch Stand Up Paddling', 'distance': 22810.6, 'moving_time': 6935, 'elapsed_time': 8925, 'total_elevation_gain': 97.1, 'type': 'StandUpPaddling', 'sport_type': 'StandUpPaddling', 'id': 10508092516, 'start_date': '2024-01-06T20:19:53Z', 'start_date_local': '2024-01-06T10:19:53Z', 'timezone': '(GMT-10:00) Pacific/Honolulu', 'utc_offset': -36000.0, 'location_city': None, 'location_state': None, 'location_country': 'United States', 'achievement_count': 0, 'kudos_count': 0, 'comment_count': 0, 'athlete_count': 1, 'photo_count': 0, 'map': {'id': 'a10508092516', 'summary_polyline': 'sh|aCxypd]K@NDZ`@f@Hf@g@r@Uv@_AbBk@j@e@^K~@Bz@]n@AdA_Ah@?p@_@p@G^m@f@[dA@~@OvAa@~@y@v@Mj@a@l@Ij@k@~@O`Aw@zAu@v@Dl@Qd@Dz@g@v@Ch@Sx@A|@e@pAI\\\\o@|@_@j@u@p@Yd@o@|@e@x@_Ar@S~@aAn@Gr@w@t@Kp@a@j@EbAo@bB]f@e@hAc@h@o@`ASj@e@xAIt@i@`Cc@p@k@r@Qj@e@hAUVSlA]^k@nAQf@c@bAOv@q@rBi@p@Cr@]d@Cx@q@lAMj@e@r@Kh@c@v@GVY\\\\Ij@BhASrAHj@Mv@Lr@Ur@@z@OfAo@p@AfAc@f@k@pAm@t@Cr@Yd@Dv@_@fACh@YbAM~@u@lAGfAi@p@@|A{@_AQe@Zs@HkCjBUBq@h@oBr@o@b@mDl@qA\\\\o@\\\\u@Hw@h@mAP_Ab@i@@oBr@u@^wA\\\\w@H}AlAeBb@aAFw@`@u@?w@d@_APi@`@m@Fc@\\\\u@Do@ZsDX{@p@w@@qAp@_C`@k@\\\\q@?q@^kAJaAj@_ABk@d@}@H}@r@{@Js@|@{@l@q@V]\\\\cANa@VeCl@_Ap@gAT_Az@{@Ri@h@s@XYd@{@Zu@hAiAx@u@Ji@X{@Fu@`@Io@wB`@}AUq@FqA_@{@Hs@Oy@Le@l@]N}ANsAa@}@\\\\u@FmAbAw@Vu@r@cAZm@nAc@^MlAa@fAq@\\\\Yl@u@h@e@bA}@Vs@f@cDf@eAa@kBwAq@l@gA\\\\c@g@a@Qa@?PCCJCIGANE|@v@`@FjAq@F[eBCa@M_HuF}AgAYFiB`Ce`@zm@_BpDsRpi@yAtC}ArBmBbByBrAeiAjf@kBbAeErDaBhCy@lBwHvTkDhG}BlCgDnCqDrBgDnA{GtAiHVyDM_\\\\iCoGI}d@pDqFNaw@cEiUgCoF]cb@?}BMmGcAaDMaCDkJx@uSKqHd@kVhCuBh@aClAaE~DeOtPmOfToN~KuFhHu@`@iAZmCRSYEPz@FlBS`AW|@g@`GuH`OmLfN{RfDuDbAu@', 'resource_state': 2}, 'trainer': False, 'commute': False, 'manual': False, 'private': False, 'visibility': 'everyone', 'flagged': False, 'gear_id': None, 'start_latlng': [21.44922693260014, -158.19692742079496], 'end_latlng': [21.53796815313399, -158.2317806314677], 'average_speed': 3.289, 'max_speed': 20.524, 'has_heartrate': False, 'heartrate_opt_out': False, 'display_hide_heartrate_option': False, 'elev_high': 20.7, 'elev_low': -9.4, 'upload_id': 11244278332, 'upload_id_str': '11244278332', 'external_id': 'FE88F4B7-2573-41A2-95D6-BAB21ACFFDDF-activity.fit', 'from_accepted_tag': False, 'pr_count': 0, 'total_photo_count': 0, 'has_kudoed': False}]]\n"
     ]
    }
   ],
   "source": [
    "print (data)"
   ]
  },
  {
   "cell_type": "code",
   "execution_count": 66,
   "id": "256fd562",
   "metadata": {},
   "outputs": [
    {
     "data": {
      "text/html": [
       "<div>\n",
       "<style scoped>\n",
       "    .dataframe tbody tr th:only-of-type {\n",
       "        vertical-align: middle;\n",
       "    }\n",
       "\n",
       "    .dataframe tbody tr th {\n",
       "        vertical-align: top;\n",
       "    }\n",
       "\n",
       "    .dataframe thead th {\n",
       "        text-align: right;\n",
       "    }\n",
       "</style>\n",
       "<table border=\"1\" class=\"dataframe\">\n",
       "  <thead>\n",
       "    <tr style=\"text-align: right;\">\n",
       "      <th></th>\n",
       "      <th>name</th>\n",
       "      <th>distance</th>\n",
       "      <th>average_speed</th>\n",
       "      <th>moving_time</th>\n",
       "    </tr>\n",
       "  </thead>\n",
       "  <tbody>\n",
       "    <tr>\n",
       "      <th>0</th>\n",
       "      <td>Morning Stand Up Paddling</td>\n",
       "      <td>8718.9</td>\n",
       "      <td>1.312</td>\n",
       "      <td>6643</td>\n",
       "    </tr>\n",
       "    <tr>\n",
       "      <th>1</th>\n",
       "      <td>Morning Stand Up Paddling</td>\n",
       "      <td>9926.5</td>\n",
       "      <td>1.482</td>\n",
       "      <td>6697</td>\n",
       "    </tr>\n",
       "    <tr>\n",
       "      <th>2</th>\n",
       "      <td>Lunch Stand Up Paddling</td>\n",
       "      <td>22810.6</td>\n",
       "      <td>3.289</td>\n",
       "      <td>6935</td>\n",
       "    </tr>\n",
       "  </tbody>\n",
       "</table>\n",
       "</div>"
      ],
      "text/plain": [
       "                        name  distance  average_speed  moving_time\n",
       "0  Morning Stand Up Paddling    8718.9          1.312         6643\n",
       "1  Morning Stand Up Paddling    9926.5          1.482         6697\n",
       "2    Lunch Stand Up Paddling   22810.6          3.289         6935"
      ]
     },
     "execution_count": 66,
     "metadata": {},
     "output_type": "execute_result"
    }
   ],
   "source": [
    "# normalize data\n",
    "activities = pd.json_normalize(data_dictionaries)\n",
    "# sample activities\n",
    "activities[['name', 'distance', 'average_speed', 'moving_time']]\\\n",
    ".sample(3)"
   ]
  },
  {
   "cell_type": "code",
   "execution_count": 68,
   "id": "49072bfe",
   "metadata": {},
   "outputs": [],
   "source": [
    "# add decoded summary polylines\n",
    "activities['map.polyline'] = activities['map.summary_polyline'].apply(polyline.decode)"
   ]
  },
  {
   "cell_type": "code",
   "execution_count": 70,
   "id": "405f6514",
   "metadata": {},
   "outputs": [],
   "source": [
    "# convert data types\n",
    "activities.loc[:, 'start_date'] = pd.to_datetime(activities['start_date']).dt.tz_localize(None)\n",
    "activities.loc[:, 'start_date_local'] = pd.to_datetime(activities['start_date_local']).dt.tz_localize(None)\n",
    "# convert values\n",
    "activities.loc[:, 'distance'] /= 1000 # convert from m to km\n",
    "activities.loc[:, 'average_speed'] *= 3.6 # convert from m/s to km/h\n",
    "activities.loc[:, 'max_speed'] *= 3.6 # convert from m/s to km/h\n",
    "# set index\n",
    "activities.set_index('start_date_local', inplace=True)\n",
    "# drop columns\n",
    "activities.drop(\n",
    "    [\n",
    "        'map.summary_polyline', \n",
    "        'resource_state',\n",
    "        'external_id', \n",
    "        'upload_id', \n",
    "        'location_city', \n",
    "        'location_state', \n",
    "        'has_kudoed', \n",
    "        'start_date', \n",
    "        'athlete.resource_state', \n",
    "        'utc_offset', \n",
    "        'map.resource_state', \n",
    "        'athlete.id', \n",
    "        'visibility', \n",
    "        'heartrate_opt_out', \n",
    "        'upload_id_str', \n",
    "        'from_accepted_tag', \n",
    "        'map.id', \n",
    "        'manual', \n",
    "        'private', \n",
    "        'flagged', \n",
    "    ], \n",
    "    axis=1, \n",
    "    inplace=True\n",
    ")"
   ]
  },
  {
   "cell_type": "code",
   "execution_count": 77,
   "id": "907f5fd1",
   "metadata": {},
   "outputs": [],
   "source": [
    "# Save the map as an HTML file\n",
    "m.save('interactive_map.html')"
   ]
  },
  {
   "cell_type": "code",
   "execution_count": 79,
   "id": "0584d975",
   "metadata": {},
   "outputs": [
    {
     "data": {
      "text/html": [
       "<div style=\"width:100%;\"><div style=\"position:relative;width:100%;height:0;padding-bottom:60%;\"><span style=\"color:#565656\">Make this Notebook Trusted to load map: File -> Trust Notebook</span><iframe srcdoc=\"&lt;!DOCTYPE html&gt;\n",
       "&lt;html&gt;\n",
       "&lt;head&gt;\n",
       "    \n",
       "    &lt;meta http-equiv=&quot;content-type&quot; content=&quot;text/html; charset=UTF-8&quot; /&gt;\n",
       "    \n",
       "        &lt;script&gt;\n",
       "            L_NO_TOUCH = false;\n",
       "            L_DISABLE_3D = false;\n",
       "        &lt;/script&gt;\n",
       "    \n",
       "    &lt;style&gt;html, body {width: 100%;height: 100%;margin: 0;padding: 0;}&lt;/style&gt;\n",
       "    &lt;style&gt;#map {position:absolute;top:0;bottom:0;right:0;left:0;}&lt;/style&gt;\n",
       "    &lt;script src=&quot;https://cdn.jsdelivr.net/npm/leaflet@1.9.3/dist/leaflet.js&quot;&gt;&lt;/script&gt;\n",
       "    &lt;script src=&quot;https://code.jquery.com/jquery-3.7.1.min.js&quot;&gt;&lt;/script&gt;\n",
       "    &lt;script src=&quot;https://cdn.jsdelivr.net/npm/bootstrap@5.2.2/dist/js/bootstrap.bundle.min.js&quot;&gt;&lt;/script&gt;\n",
       "    &lt;script src=&quot;https://cdnjs.cloudflare.com/ajax/libs/Leaflet.awesome-markers/2.0.2/leaflet.awesome-markers.js&quot;&gt;&lt;/script&gt;\n",
       "    &lt;link rel=&quot;stylesheet&quot; href=&quot;https://cdn.jsdelivr.net/npm/leaflet@1.9.3/dist/leaflet.css&quot;/&gt;\n",
       "    &lt;link rel=&quot;stylesheet&quot; href=&quot;https://cdn.jsdelivr.net/npm/bootstrap@5.2.2/dist/css/bootstrap.min.css&quot;/&gt;\n",
       "    &lt;link rel=&quot;stylesheet&quot; href=&quot;https://netdna.bootstrapcdn.com/bootstrap/3.0.0/css/bootstrap.min.css&quot;/&gt;\n",
       "    &lt;link rel=&quot;stylesheet&quot; href=&quot;https://cdn.jsdelivr.net/npm/@fortawesome/fontawesome-free@6.2.0/css/all.min.css&quot;/&gt;\n",
       "    &lt;link rel=&quot;stylesheet&quot; href=&quot;https://cdnjs.cloudflare.com/ajax/libs/Leaflet.awesome-markers/2.0.2/leaflet.awesome-markers.css&quot;/&gt;\n",
       "    &lt;link rel=&quot;stylesheet&quot; href=&quot;https://cdn.jsdelivr.net/gh/python-visualization/folium/folium/templates/leaflet.awesome.rotate.min.css&quot;/&gt;\n",
       "    \n",
       "            &lt;meta name=&quot;viewport&quot; content=&quot;width=device-width,\n",
       "                initial-scale=1.0, maximum-scale=1.0, user-scalable=no&quot; /&gt;\n",
       "            &lt;style&gt;\n",
       "                #map_f51eedb3808fd5ffc771464c2dd2f0a6 {\n",
       "                    position: relative;\n",
       "                    width: 100.0%;\n",
       "                    height: 100.0%;\n",
       "                    left: 0.0%;\n",
       "                    top: 0.0%;\n",
       "                }\n",
       "                .leaflet-container { font-size: 1rem; }\n",
       "            &lt;/style&gt;\n",
       "        \n",
       "&lt;/head&gt;\n",
       "&lt;body&gt;\n",
       "    \n",
       "    \n",
       "            &lt;div class=&quot;folium-map&quot; id=&quot;map_f51eedb3808fd5ffc771464c2dd2f0a6&quot; &gt;&lt;/div&gt;\n",
       "        \n",
       "&lt;/body&gt;\n",
       "&lt;script&gt;\n",
       "    \n",
       "    \n",
       "            var map_f51eedb3808fd5ffc771464c2dd2f0a6 = L.map(\n",
       "                &quot;map_f51eedb3808fd5ffc771464c2dd2f0a6&quot;,\n",
       "                {\n",
       "                    center: [21.276515375586857, -157.73691166666666],\n",
       "                    crs: L.CRS.EPSG3857,\n",
       "                    zoom: 10,\n",
       "                    zoomControl: true,\n",
       "                    preferCanvas: false,\n",
       "                }\n",
       "            );\n",
       "\n",
       "            \n",
       "\n",
       "        \n",
       "    \n",
       "            var tile_layer_a6167c812bc13c892ff76e981ed5c35f = L.tileLayer(\n",
       "                &quot;https://tile.openstreetmap.org/{z}/{x}/{y}.png&quot;,\n",
       "                {&quot;attribution&quot;: &quot;\\u0026copy; \\u003ca href=\\&quot;https://www.openstreetmap.org/copyright\\&quot;\\u003eOpenStreetMap\\u003c/a\\u003e contributors&quot;, &quot;detectRetina&quot;: false, &quot;maxNativeZoom&quot;: 19, &quot;maxZoom&quot;: 19, &quot;minZoom&quot;: 0, &quot;noWrap&quot;: false, &quot;opacity&quot;: 1, &quot;subdomains&quot;: &quot;abc&quot;, &quot;tms&quot;: false}\n",
       "            );\n",
       "        \n",
       "    \n",
       "            tile_layer_a6167c812bc13c892ff76e981ed5c35f.addTo(map_f51eedb3808fd5ffc771464c2dd2f0a6);\n",
       "        \n",
       "    \n",
       "            var poly_line_b59abad758f8fd7c5739e02cdf13e31c = L.polyline(\n",
       "                [[21.28308, -157.71952], [21.28296, -157.71958], [21.28284, -157.71973], [21.28275, -157.71974], [21.2826, -157.71984], [21.2825, -157.71996], [21.28232, -157.72003], [21.28222, -157.72019], [21.28203, -157.72033], [21.2819, -157.72041], [21.28184, -157.72051], [21.2817, -157.72059], [21.28159, -157.72071], [21.28139, -157.72077], [21.28123, -157.72088], [21.28104, -157.72092], [21.28093, -157.72099], [21.28034, -157.72178], [21.28028, -157.72189], [21.28018, -157.722], [21.28015, -157.72207], [21.28001, -157.72218], [21.27993, -157.72229], [21.27987, -157.72233], [21.27978, -157.72235], [21.27971, -157.72241], [21.27968, -157.72256], [21.2796, -157.7227], [21.2795, -157.72279], [21.27943, -157.72295], [21.27934, -157.72304], [21.27928, -157.72316], [21.27921, -157.72322], [21.27915, -157.72339], [21.27899, -157.72351], [21.27896, -157.72369], [21.2789, -157.72378], [21.27879, -157.72387], [21.27876, -157.72395], [21.27879, -157.72406], [21.27877, -157.72415], [21.27874, -157.72422], [21.2786, -157.72433], [21.27856, -157.72438], [21.27855, -157.72461], [21.27848, -157.72473], [21.27843, -157.72494], [21.27825, -157.72513], [21.27822, -157.72528], [21.27812, -157.72541], [21.27807, -157.72554], [21.27801, -157.7256], [21.27796, -157.72578], [21.27789, -157.72587], [21.27779, -157.72593], [21.27775, -157.726], [21.27779, -157.72622], [21.27778, -157.72633], [21.27769, -157.72668], [21.27776, -157.72688], [21.27778, -157.72709], [21.27777, -157.72723], [21.27765, -157.72749], [21.27767, -157.72766], [21.27764, -157.72786], [21.27769, -157.72801], [21.2777, -157.72813], [21.2777, -157.72834], [21.27762, -157.7286], [21.27769, -157.72883], [21.2777, -157.72895], [21.27768, -157.72912], [21.27772, -157.72935], [21.27769, -157.72965], [21.27783, -157.72994], [21.27787, -157.73019], [21.27788, -157.73028], [21.27784, -157.73044], [21.27787, -157.73062], [21.27783, -157.73092], [21.27786, -157.73105], [21.27787, -157.73119], [21.2778, -157.73139], [21.27785, -157.73163], [21.27782, -157.73178], [21.27771, -157.73188], [21.27768, -157.73208], [21.2776, -157.73221], [21.27763, -157.73252], [21.27759, -157.73264], [21.27753, -157.73273], [21.2776, -157.73263], [21.27765, -157.73245], [21.27771, -157.73242], [21.27776, -157.7323], [21.27778, -157.73232], [21.27779, -157.73229], [21.27776, -157.73243], [21.2777, -157.73255], [21.27766, -157.73278], [21.27756, -157.73293], [21.27754, -157.73321], [21.27741, -157.73337], [21.27739, -157.73354], [21.27733, -157.73366], [21.27724, -157.73376], [21.27724, -157.7339], [21.27727, -157.734], [21.27725, -157.73417], [21.27717, -157.73427], [21.27703, -157.73436], [21.27699, -157.73444], [21.27697, -157.73456], [21.277, -157.73468], [21.27698, -157.73484], [21.27687, -157.735], [21.27685, -157.73516], [21.27675, -157.73536], [21.27677, -157.73557], [21.27675, -157.7357], [21.27659, -157.73593], [21.2766, -157.73613], [21.27654, -157.73636], [21.27655, -157.73644], [21.2766, -157.73656], [21.27663, -157.73677], [21.27653, -157.73699], [21.27652, -157.7372], [21.27644, -157.73736], [21.27644, -157.73754], [21.27635, -157.73775], [21.27639, -157.73791], [21.27637, -157.73807], [21.27628, -157.73828], [21.27615, -157.73843], [21.27615, -157.73854], [21.27621, -157.73876], [21.27621, -157.73887], [21.27612, -157.73912], [21.2761, -157.73929], [21.27595, -157.73952], [21.27597, -157.73973], [21.27594, -157.73991], [21.27594, -157.74009], [21.27592, -157.74018], [21.27584, -157.74037], [21.27586, -157.7405], [21.27585, -157.74057], [21.27571, -157.74079], [21.27569, -157.7409], [21.27565, -157.74099], [21.27565, -157.7411], [21.27559, -157.74129], [21.27547, -157.74146], [21.27539, -157.74151], [21.27534, -157.74162], [21.27525, -157.74169], [21.27519, -157.74187], [21.27513, -157.74194], [21.2751, -157.74206], [21.27501, -157.74218], [21.27495, -157.74255], [21.27486, -157.7428], [21.2748, -157.74288], [21.27481, -157.74291], [21.27475, -157.74295], [21.27473, -157.74301], [21.27476, -157.74313], [21.27476, -157.74328], [21.2747, -157.74353], [21.27455, -157.74372], [21.27455, -157.74382], [21.27449, -157.74395], [21.27438, -157.74407], [21.27423, -157.74415], [21.27424, -157.74419], [21.27418, -157.74431], [21.27405, -157.74443], [21.27402, -157.74461], [21.27398, -157.74471], [21.27391, -157.74478], [21.27391, -157.74501], [21.27384, -157.74518], [21.27376, -157.74529], [21.27379, -157.74551], [21.27373, -157.74588], [21.27377, -157.74596], [21.27376, -157.74609], [21.2737, -157.74622], [21.27361, -157.74629], [21.27363, -157.74642], [21.2736, -157.74662], [21.27353, -157.74682], [21.27342, -157.74701], [21.27343, -157.74714], [21.27337, -157.74731], [21.27339, -157.74737], [21.27335, -157.74768], [21.27336, -157.74787], [21.27325, -157.74849], [21.27319, -157.7486], [21.27325, -157.74876], [21.27323, -157.7491], [21.27319, -157.74916], [21.2732, -157.7492], [21.27316, -157.74932], [21.27304, -157.74948], [21.27307, -157.74957], [21.27303, -157.7498], [21.27297, -157.74996], [21.27292, -157.75001], [21.27291, -157.75015], [21.27286, -157.75029], [21.27269, -157.75046], [21.27262, -157.75047], [21.27256, -157.75078], [21.2725, -157.75089], [21.27244, -157.75092], [21.2724, -157.75099], [21.27241, -157.75108], [21.27237, -157.75122], [21.27232, -157.75127], [21.27229, -157.75137], [21.2723, -157.75142], [21.27226, -157.75151], [21.27227, -157.75155], [21.27225, -157.75168], [21.27209, -157.75208], [21.27212, -157.75217], [21.27212, -157.75234], [21.27207, -157.7525], [21.27199, -157.75261], [21.27201, -157.7527], [21.27198, -157.7528], [21.27195, -157.75293], [21.27188, -157.75302], [21.27192, -157.75322], [21.27191, -157.75335], [21.27189, -157.75346], [21.27183, -157.75355], [21.27177, -157.75348], [21.27177, -157.75336], [21.27181, -157.75314], [21.2718, -157.75305], [21.27171, -157.75278], [21.27172, -157.75273], [21.27177, -157.75269], [21.27173, -157.7526], [21.27185, -157.75253], [21.27188, -157.75249], [21.27187, -157.75247], [21.27188, -157.75248], [21.27191, -157.75246], [21.272, -157.75236], [21.27203, -157.7523], [21.27203, -157.75205], [21.27216, -157.75177], [21.2721, -157.75147], [21.27206, -157.75132], [21.27218, -157.75097], [21.27219, -157.75081], [21.27217, -157.7505], [21.27229, -157.75019], [21.27231, -157.74992], [21.27253, -157.74962], [21.27261, -157.74943], [21.27266, -157.74921], [21.27265, -157.74891], [21.27276, -157.7487], [21.27287, -157.74862], [21.27296, -157.7485], [21.27303, -157.74827], [21.27304, -157.74802], [21.27308, -157.74785], [21.27328, -157.7476], [21.27338, -157.74725], [21.27344, -157.7472], [21.27349, -157.74724], [21.27342, -157.74722], [21.27341, -157.74718], [21.27343, -157.74715], [21.27346, -157.74714], [21.27346, -157.74712], [21.27349, -157.74709], [21.27348, -157.74707], [21.27358, -157.74694], [21.27361, -157.74676], [21.2737, -157.74656], [21.2737, -157.74646], [21.27373, -157.7463], [21.27371, -157.74593], [21.27374, -157.74584], [21.27389, -157.74563], [21.27395, -157.7455], [21.27407, -157.74512], [21.27414, -157.74506], [21.27427, -157.74486], [21.27431, -157.74465], [21.27434, -157.7446], [21.27439, -157.74424], [21.27443, -157.74413], [21.27449, -157.74403], [21.27458, -157.74397], [21.27466, -157.74388], [21.27475, -157.7437], [21.27479, -157.74352], [21.27484, -157.74343], [21.27494, -157.74335], [21.27517, -157.74327], [21.27533, -157.74314], [21.27551, -157.74307], [21.27557, -157.74293], [21.27573, -157.74277], [21.27582, -157.74271], [21.27598, -157.74267], [21.2762, -157.74247], [21.27628, -157.74239], [21.27637, -157.74219], [21.27654, -157.74205], [21.27658, -157.74198], [21.27665, -157.74181], [21.27666, -157.74159], [21.27663, -157.74145], [21.27664, -157.74134], [21.27674, -157.74106], [21.27674, -157.74085], [21.27672, -157.74074], [21.27674, -157.74067], [21.27678, -157.74056], [21.27691, -157.74042], [21.27697, -157.74031], [21.27701, -157.74014], [21.27704, -157.73989], [21.27718, -157.73969], [21.27724, -157.73935], [21.27734, -157.7392], [21.27741, -157.73903], [21.27743, -157.73886], [21.27743, -157.73863], [21.27754, -157.73842], [21.27757, -157.73832], [21.2776, -157.73818], [21.27761, -157.7379], [21.27771, -157.73768], [21.27775, -157.73749], [21.27773, -157.73716], [21.27777, -157.73701], [21.27784, -157.73686], [21.27787, -157.73672], [21.27783, -157.73635], [21.27792, -157.73608], [21.27792, -157.73572], [21.27801, -157.73541], [21.27802, -157.735], [21.27806, -157.73487], [21.27817, -157.73471], [21.27822, -157.73456], [21.27822, -157.73415], [21.27823, -157.73408], [21.27836, -157.73384], [21.2784, -157.73371], [21.27842, -157.73328], [21.27856, -157.73294], [21.27854, -157.73244], [21.27869, -157.73214], [21.27875, -157.73191], [21.27874, -157.73176], [21.27867, -157.73135], [21.27879, -157.73099], [21.27881, -157.7306], [21.27892, -157.73036], [21.27896, -157.73009], [21.27896, -157.72983], [21.27891, -157.72951], [21.27892, -157.72941], [21.27902, -157.72919], [21.27904, -157.72908], [21.27904, -157.7289], [21.27899, -157.72868], [21.279, -157.72858], [21.27914, -157.72823], [21.27918, -157.72803], [21.27917, -157.72776], [21.27912, -157.72752], [21.27917, -157.7273], [21.27916, -157.72693], [21.27929, -157.7267], [21.27934, -157.72638], [21.27947, -157.72618], [21.27954, -157.72588], [21.27965, -157.72571], [21.2797, -157.72558], [21.27975, -157.72525], [21.27976, -157.72483], [21.27981, -157.72473], [21.27997, -157.72455], [21.28003, -157.72439], [21.28004, -157.72431], [21.27995, -157.72404], [21.27995, -157.72371], [21.27997, -157.72364], [21.27995, -157.72358], [21.27997, -157.72359], [21.27994, -157.72344], [21.27991, -157.72292], [21.27993, -157.72285], [21.28, -157.72272], [21.28024, -157.72248], [21.28036, -157.7223], [21.28063, -157.72218], [21.28085, -157.72214], [21.28095, -157.72204], [21.28106, -157.72181], [21.28124, -157.72166], [21.28132, -157.7215], [21.28134, -157.72132], [21.28142, -157.72115], [21.28147, -157.72095], [21.28162, -157.72079], [21.28168, -157.72067], [21.28176, -157.72034], [21.28212, -157.71996], [21.28249, -157.71921], [21.28264, -157.71905], [21.28279, -157.71877], [21.2829, -157.71866]],\n",
       "                {&quot;bubblingMouseEvents&quot;: true, &quot;color&quot;: &quot;red&quot;, &quot;dashArray&quot;: null, &quot;dashOffset&quot;: null, &quot;fill&quot;: false, &quot;fillColor&quot;: &quot;red&quot;, &quot;fillOpacity&quot;: 0.2, &quot;fillRule&quot;: &quot;evenodd&quot;, &quot;lineCap&quot;: &quot;round&quot;, &quot;lineJoin&quot;: &quot;round&quot;, &quot;noClip&quot;: false, &quot;opacity&quot;: 1.0, &quot;smoothFactor&quot;: 1.0, &quot;stroke&quot;: true, &quot;weight&quot;: 3}\n",
       "            ).addTo(map_f51eedb3808fd5ffc771464c2dd2f0a6);\n",
       "        \n",
       "    \n",
       "            var poly_line_6d3ba290a249fa7192b5ac2d57faa89c = L.polyline(\n",
       "                [[21.44924, -158.19694], [21.44928, -158.19694], [21.44917, -158.19699], [21.44906, -158.19714], [21.44886, -158.19719], [21.44866, -158.19699], [21.4484, -158.19688], [21.44812, -158.19656], [21.44787, -158.19641], [21.44762, -158.19634], [21.4474, -158.19615], [21.44724, -158.19609], [21.44691, -158.1961], [21.44662, -158.19595], [21.44639, -158.19596], [21.44617, -158.19572], [21.44603, -158.19563], [21.44579, -158.19562], [21.44557, -158.19547], [21.44532, -158.19543], [21.44516, -158.19519], [21.44498, -158.19507], [21.44461, -158.19507], [21.44449, -158.19501], [21.44429, -158.19499], [21.44409, -158.19486], [21.44385, -158.19482], [21.44353, -158.19453], [21.44326, -158.19447], [21.44306, -158.19431], [21.4428, -158.19424], [21.44257, -158.19402], [21.44226, -158.19394], [21.44193, -158.19366], [21.44174, -158.19359], [21.44162, -158.19347], [21.44147, -158.19339], [21.44119, -158.19342], [21.44097, -158.19333], [21.44077, -158.19336], [21.44053, -158.19318], [21.44036, -158.19313], [21.44019, -158.19314], [21.43998, -158.19304], [21.43967, -158.19302], [21.43942, -158.19285], [21.43929, -158.19281], [21.43898, -158.19279], [21.43888, -158.19269], [21.43884, -158.19257], [21.43851, -158.19239], [21.43828, -158.19211], [21.43804, -158.19199], [21.43791, -158.1918], [21.4377, -158.19163], [21.43754, -158.19156], [21.43726, -158.19124], [21.43699, -158.19114], [21.43684, -158.19094], [21.43667, -158.19081], [21.43643, -158.19077], [21.43617, -158.19049], [21.4359, -158.19043], [21.43565, -158.19026], [21.43543, -158.19023], [21.43524, -158.19006], [21.43509, -158.18999], [21.43493, -158.18998], [21.43459, -158.18984], [21.43437, -158.18964], [21.43408, -158.18952], [21.43381, -158.18923], [21.4336, -158.18913], [21.43348, -158.18913], [21.43326, -158.18894], [21.43303, -158.18887], [21.43281, -158.18889], [21.43271, -158.18885], [21.43254, -158.18868], [21.43189, -158.1885], [21.43164, -158.18828], [21.43146, -158.18818], [21.43138, -158.18819], [21.43116, -158.188], [21.43079, -158.18789], [21.43067, -158.18779], [21.43028, -158.18764], [21.43011, -158.18741], [21.42994, -158.18734], [21.42972, -158.18733], [21.42961, -158.18726], [21.42952, -158.18715], [21.42937, -158.18709], [21.42918, -158.18707], [21.4289, -158.18682], [21.42873, -158.18675], [21.42853, -158.18674], [21.42832, -158.18661], [21.42807, -158.18659], [21.42781, -158.18644], [21.42762, -158.18642], [21.42733, -158.18617], [21.42694, -158.1861], [21.42672, -158.18591], [21.42646, -158.18585], [21.42626, -158.18567], [21.42597, -158.18563], [21.42585, -158.1855], [21.4257, -158.18545], [21.42547, -158.18547], [21.42529, -158.18538], [21.42511, -158.18537], [21.42498, -158.18542], [21.42469, -158.18542], [21.42447, -158.18535], [21.42419, -158.18542], [21.42393, -158.18531], [21.42359, -158.18529], [21.42344, -158.18524], [21.42314, -158.18505], [21.42269, -158.18496], [21.42242, -158.18483], [21.42219, -158.18458], [21.42175, -158.18435], [21.42157, -158.18436], [21.42127, -158.18421], [21.42107, -158.18424], [21.42079, -158.18408], [21.42043, -158.18406], [21.42022, -158.18393], [21.41988, -158.18386], [21.41971, -158.18368], [21.41957, -158.18359], [21.41943, -158.18355], [21.41917, -158.18355], [21.41891, -158.18336], [21.41856, -158.18335], [21.4183, -158.18314], [21.41809, -158.18305], [21.41818, -158.18304], [21.41816, -158.18301], [21.41819, -158.183], [21.41824, -158.18304], [21.41841, -158.18296], [21.4186, -158.1831], [21.41886, -158.18315], [21.41917, -158.1834], [21.41939, -158.18352], [21.41956, -158.18369], [21.41967, -158.18371], [21.41992, -158.18392], [21.42048, -158.18418], [21.42072, -158.18436], [21.4211, -158.18442], [21.42131, -158.18453], [21.42159, -158.18459], [21.42169, -158.18467], [21.422, -158.18474], [21.42224, -158.18489], [21.42253, -158.18495], [21.42279, -158.18515], [21.42321, -158.18524], [21.4235, -158.18542], [21.42373, -158.18544], [21.42409, -158.18567], [21.42427, -158.18569], [21.42455, -158.18585], [21.42479, -158.18589], [21.42498, -158.186], [21.42526, -158.18605], [21.42538, -158.18611], [21.42563, -158.1864], [21.42573, -158.18644], [21.42597, -158.18646], [21.42623, -158.18661], [21.42657, -158.18666], [21.42685, -158.18683], [21.42712, -158.18683], [21.4274, -158.18702], [21.42772, -158.18711], [21.42792, -158.18727], [21.42816, -158.18732], [21.42834, -158.18747], [21.42861, -158.1875], [21.42885, -158.18764], [21.4293, -158.18772], [21.42955, -158.18772], [21.42974, -158.18777], [21.43005, -158.18802], [21.43033, -158.18803], [21.43074, -158.18828], [21.43099, -158.18832], [21.43111, -158.18841], [21.43138, -158.18845], [21.4316, -158.1886], [21.43185, -158.1886], [21.432, -158.18866], [21.43221, -158.1888], [21.43235, -158.18878], [21.4325, -158.18882], [21.43281, -158.18904], [21.43313, -158.18906], [21.43335, -158.18925], [21.43366, -158.1893], [21.43379, -158.18938], [21.43397, -158.18956], [21.43427, -158.18962], [21.43439, -158.18971], [21.43453, -158.18993], [21.43475, -158.19006], [21.43483, -158.19016], [21.43508, -158.19028], [21.43523, -158.19043], [21.43557, -158.19051], [21.43574, -158.19063], [21.43601, -158.19069], [21.43626, -158.19083], [21.43648, -158.19089], [21.43674, -158.19112], [21.43709, -158.19122], [21.43741, -158.19152], [21.43771, -158.19162], [21.43792, -158.19183], [21.43818, -158.19196], [21.43831, -158.19215], [21.43861, -158.19229], [21.43888, -158.19266], [21.43913, -158.19288], [21.43925, -158.19295], [21.43952, -158.19301], [21.43973, -158.19314], [21.44003, -158.19318], [21.44018, -158.19324], [21.4403, -158.19335], [21.44031, -158.19317], [21.44036, -158.1931], [21.44044, -158.1931], [21.44047, -158.19314], [21.4406, -158.19319], [21.44095, -158.19328], [21.44142, -158.19316], [21.44167, -158.19321], [21.44193, -158.19309], [21.44209, -158.19304], [21.44238, -158.1931], [21.44264, -158.19302], [21.44293, -158.1931], [21.44307, -158.19322], [21.44312, -158.19332], [21.44327, -158.1934], [21.44346, -158.19341], [21.4437, -158.19349], [21.44384, -158.19346], [21.44416, -158.19331], [21.44435, -158.19337], [21.44449, -158.19347], [21.44474, -158.1935], [21.44498, -158.19367], [21.44513, -158.19384], [21.44541, -158.19396], [21.44568, -158.19422], [21.44602, -158.19436], [21.44613, -158.1945], [21.44625, -158.19476], [21.44643, -158.19492], [21.4465, -158.19514], [21.4465, -158.19531], [21.44665, -158.19555], [21.44667, -158.19567], [21.44692, -158.19582], [21.44705, -158.19605], [21.44732, -158.19626], [21.44751, -158.1966], [21.44763, -158.19667], [21.44782, -158.19672], [21.44808, -158.19692], [21.44878, -158.19712], [21.44891, -158.19712], [21.4491, -158.19706], [21.44925, -158.19695], [21.44979, -158.19651], [21.44992, -158.19658], [21.45004, -158.19674], [21.45034, -158.19689], [21.45041, -158.19689], [21.45054, -158.19672], [21.4507, -158.19662], [21.45079, -158.19659], [21.45089, -158.19663], [21.4509, -158.19661], [21.45088, -158.19659], [21.45092, -158.1966], [21.45086, -158.19661], [21.45087, -158.19655], [21.45042, -158.1969], [21.4503, -158.19687], [21.45009, -158.19672], [21.45016, -158.19672], [21.45013, -158.19672], [21.45013, -158.19665], [21.45016, -158.19668], [21.45013, -158.19672], [21.45126, -158.19677], [21.45112, -158.19686], [21.45098, -158.19686], [21.45085, -158.19662], [21.45091, -158.19655], [21.45095, -158.1966], [21.45107, -158.19656], [21.45114, -158.19623], [21.45126, -158.19609], [21.45124, -158.19597], [21.45127, -158.19589], [21.45181, -158.19536], [21.45252, -158.19483], [21.45311, -158.1955], [21.45633, -158.1999]],\n",
       "                {&quot;bubblingMouseEvents&quot;: true, &quot;color&quot;: &quot;red&quot;, &quot;dashArray&quot;: null, &quot;dashOffset&quot;: null, &quot;fill&quot;: false, &quot;fillColor&quot;: &quot;red&quot;, &quot;fillOpacity&quot;: 0.2, &quot;fillRule&quot;: &quot;evenodd&quot;, &quot;lineCap&quot;: &quot;round&quot;, &quot;lineJoin&quot;: &quot;round&quot;, &quot;noClip&quot;: false, &quot;opacity&quot;: 1.0, &quot;smoothFactor&quot;: 1.0, &quot;stroke&quot;: true, &quot;weight&quot;: 3}\n",
       "            ).addTo(map_f51eedb3808fd5ffc771464c2dd2f0a6);\n",
       "        \n",
       "&lt;/script&gt;\n",
       "&lt;/html&gt;\" style=\"position:absolute;width:100%;height:100%;left:0;top:0;border:none !important;\" allowfullscreen webkitallowfullscreen mozallowfullscreen></iframe></div></div>"
      ],
      "text/plain": [
       "<folium.folium.Map at 0x7fe628060d60>"
      ]
     },
     "metadata": {},
     "output_type": "display_data"
    }
   ],
   "source": [
    "paddles = activities.iloc[:2, :]\n",
    "\n",
    "# Calculate centroid for the first activity\n",
    "centroid_first_activity = [\n",
    "    np.mean([coord[0] for coord in paddles.iloc[0]['map.polyline']]), \n",
    "    np.mean([coord[1] for coord in paddles.iloc[0]['map.polyline']])\n",
    "]\n",
    "\n",
    "# Create a map with the initial location set to the centroid of the first activity\n",
    "m = folium.Map(location=centroid_first_activity, zoom_start=10)\n",
    "\n",
    "# Iterate over selected activities and plot on the map\n",
    "for index, paddle in paddles.iterrows():\n",
    "    # Calculate centroid\n",
    "    centroid = [\n",
    "        np.mean([coord[0] for coord in paddle['map.polyline']]), \n",
    "        np.mean([coord[1] for coord in paddle['map.polyline']])\n",
    "    ]\n",
    "    \n",
    "    # Plot ride on map\n",
    "    folium.PolyLine(paddle['map.polyline'], color='red').add_to(m)\n",
    "\n",
    "# Display the map\n",
    "display(m)\n",
    "    # Save the map as an HTML file\n",
    "m.save('interactive_map.html')"
   ]
  },
  {
   "cell_type": "code",
   "execution_count": null,
   "id": "8b1ec9e8",
   "metadata": {},
   "outputs": [],
   "source": []
  }
 ],
 "metadata": {
  "kernelspec": {
   "display_name": "Python 3 (ipykernel)",
   "language": "python",
   "name": "python3"
  },
  "language_info": {
   "codemirror_mode": {
    "name": "ipython",
    "version": 3
   },
   "file_extension": ".py",
   "mimetype": "text/x-python",
   "name": "python",
   "nbconvert_exporter": "python",
   "pygments_lexer": "ipython3",
   "version": "3.9.13"
  }
 },
 "nbformat": 4,
 "nbformat_minor": 5
}
